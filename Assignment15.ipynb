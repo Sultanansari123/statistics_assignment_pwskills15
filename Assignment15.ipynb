{
 "cells": [
  {
   "cell_type": "markdown",
   "id": "a19b706b-da6c-4a6b-8c7f-74d4126163b2",
   "metadata": {},
   "source": [
    "# Ans1- \n",
    "AI refers to the simulation of human intelligence in machine. for example-virtual personal asistance like sri or alexa.\n",
    "\n",
    "ML-is the computer learn pattern from the data using ml algorithm to make decision.\n",
    "\n",
    "DL-is a advance machine learning technique using neural network with many layers.for example image recognition,and facial recognition."
   ]
  },
  {
   "cell_type": "markdown",
   "id": "a09ce914-5037-46a3-bce6-022ad5cb0679",
   "metadata": {},
   "source": [
    "# Ans2-"
   ]
  },
  {
   "cell_type": "markdown",
   "id": "4be517ac-0ef4-4cde-9c3f-14f03b030840",
   "metadata": {},
   "source": [
    "Supervised learning trained on the label dataset like linear regression ,logistic regression,decision tree,svm ,neural network"
   ]
  },
  {
   "cell_type": "markdown",
   "id": "6c7d9a86-79f3-4ba4-b200-564f1fa256d8",
   "metadata": {},
   "source": [
    "# Ans3-"
   ]
  },
  {
   "cell_type": "markdown",
   "id": "56b9125c-d4f2-4913-96f0-aadca70a4faa",
   "metadata": {},
   "source": [
    "Unsupervised learning is a machine learning where the algorithm trained on the unlabel datasets.for example k-mean(clustering algorithm),dimensionality reduction(PCA algorithm) and apriori algorithm(association)."
   ]
  },
  {
   "cell_type": "markdown",
   "id": "2909c142-302d-4104-83ec-6dd23bda2c27",
   "metadata": {},
   "source": [
    "# Ans4-"
   ]
  },
  {
   "cell_type": "markdown",
   "id": "445289c0-c73f-463f-81e1-a955970c23fe",
   "metadata": {},
   "source": [
    "AI-Simulation human intelligence in machine to perform task intelligently.\n",
    "\n",
    "ML-learn pattern from the data using ml algorithm to make decision.\n",
    "\n",
    "DL-DL is the advance machine learning technique using neural network with many layers.\n",
    "\n",
    "DS-Extracting insights and knowledge from a data using a combination of statistics ,ML and domain-expertise."
   ]
  },
  {
   "cell_type": "markdown",
   "id": "f8a53d5e-c93c-4f23-9c11-d61a067df66c",
   "metadata": {},
   "source": [
    "# Ans5-"
   ]
  },
  {
   "cell_type": "markdown",
   "id": "a055a7ea-e8b5-44f7-8408-919d43326f68",
   "metadata": {},
   "source": [
    "Supervised Learning: The algorithm learns from labeled data with known outputs.\n",
    "\n",
    "Unsupervised Learning: The algorithm learns from unlabeled data, finding patterns and structures on its own.\n",
    "\n",
    "Semi-Supervised Learning: Combines labeled and unlabeled data for training, blending aspects of both supervised and unsupervised learning.\n",
    "\n",
    "\n",
    "\n",
    "\n"
   ]
  },
  {
   "cell_type": "markdown",
   "id": "ea3758e4-4183-46d5-836a-db6b5204b559",
   "metadata": {},
   "source": [
    "# Ans6-"
   ]
  },
  {
   "cell_type": "markdown",
   "id": "1572d7af-e373-4963-870d-b557f7d4da48",
   "metadata": {},
   "source": [
    "train set is the portion of the data used for  training the model.\n",
    "\n",
    "Test set is the  independent dataset or unseen dataset to evoluate the model performance.\n",
    "\n",
    "Validation set is an additional dataset used during training to fine tune the model and avoid overfitting.\n",
    "\n",
    "Importance:\n",
    "\n",
    "Train Set: Teaches the model patterns and relationships in the data.\n",
    "\n",
    "Test Set: Assesses how well the model generalizes to new, unseen data.\n",
    "\n",
    "Validation Set: Helps prevent overfitting by providing an unbiased evaluation during training.\n"
   ]
  },
  {
   "cell_type": "markdown",
   "id": "68d63b18-8b2f-4bdb-b9b3-45806cbe8c44",
   "metadata": {},
   "source": [
    "# Ans7-"
   ]
  },
  {
   "cell_type": "markdown",
   "id": "498252ab-b4c2-4a95-bbed-f550ba942689",
   "metadata": {},
   "source": [
    "Unsupervised Learning in Anomaly Detection:\n",
    "Using unsupervised learning algorithms, the model learns the normal patterns in the data, allowing it to identify anomalies "
   ]
  },
  {
   "cell_type": "markdown",
   "id": "c189b0b1-65c1-408c-920c-43ea20065466",
   "metadata": {},
   "source": [
    "# ans8-"
   ]
  },
  {
   "cell_type": "code",
   "execution_count": null,
   "id": "3c0731db-c5fc-406b-a544-896d2167e027",
   "metadata": {},
   "outputs": [],
   "source": []
  }
 ],
 "metadata": {
  "kernelspec": {
   "display_name": "Python 3 (ipykernel)",
   "language": "python",
   "name": "python3"
  },
  "language_info": {
   "codemirror_mode": {
    "name": "ipython",
    "version": 3
   },
   "file_extension": ".py",
   "mimetype": "text/x-python",
   "name": "python",
   "nbconvert_exporter": "python",
   "pygments_lexer": "ipython3",
   "version": "3.10.8"
  }
 },
 "nbformat": 4,
 "nbformat_minor": 5
}
